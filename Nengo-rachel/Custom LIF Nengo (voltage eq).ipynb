{
 "cells": [
  {
   "cell_type": "code",
   "execution_count": 1,
   "metadata": {},
   "outputs": [],
   "source": [
    "import numpy as np\n",
    "import matplotlib.pyplot as plt\n",
    "import math\n",
    "from scipy.spatial.distance import pdist, squareform\n",
    "%matplotlib inline\n",
    "\n",
    "import nengo\n",
    "from nengo.params import Parameter, NumberParam, NdarrayParam\n",
    "from nengo.neurons import settled_firingrate\n",
    "\n",
    "def adjacency(num, ri, ro, sqR):\n",
    "    \"\"\"Calculate intra-layer adjacency matrix encoding the spacial connectivity \n",
    "    of neurons within the layer.\n",
    "\n",
    "    Parameters\n",
    "    ----------\n",
    "    num : int\n",
    "        Number of neurons in layer\n",
    "    ri : float\n",
    "        Excitation radius\n",
    "    ro : float\n",
    "        Inhibition radius\n",
    "    sqR : int\n",
    "    \"\"\"\n",
    "    \n",
    "    nx = sqR*np.random.rand(num,2)\n",
    "    D = squareform(pdist(nx))\n",
    "    S = np.zeros((num, num))\n",
    "    \n",
    "    for index, x in np.ndenumerate(D):\n",
    "        if (x < ri):\n",
    "            S[index] = 30*x\n",
    "        elif (x > ro):\n",
    "            S[index] = -10*math.exp(-x / 10)        \n",
    "    S = S - np.diag(np.diag(S)) \n",
    "    return S\n",
    "\n",
    "class CustomLIF(nengo.neurons.NeuronType):\n",
    "    \"\"\"Spiking version of the leaky integrate-and-fire (LIF) neuron model.\n",
    "\n",
    "    Parameters\n",
    "    ----------\n",
    "    tau_rc : float\n",
    "        Membrane RC time constant, in seconds. Affects how quickly the membrane\n",
    "        voltage decays to zero in the absence of input (larger = slower decay).\n",
    "    tau_ref : float\n",
    "        Absolute refractory period, in seconds. This is how long the\n",
    "        membrane voltage is held at zero after a spike.\n",
    "    min_voltage : float\n",
    "        Minimum value for the membrane voltage. If ``-np.inf``, the voltage\n",
    "        is never clipped.\n",
    "    amplitude : float\n",
    "        Scaling factor on the neuron output. Corresponds to the relative\n",
    "        amplitude of the output spikes of the neuron.\n",
    "    num : int\n",
    "        Number of neurons in the layer.\n",
    "    S : ndarray\n",
    "        Intra-layer adjacency matrix.\n",
    "    \"\"\"\n",
    "\n",
    "    probeable = (\"spikes\", \"voltage\", \"refractory_time\")\n",
    "\n",
    "    min_voltage = NumberParam(\"min_voltage\", high=0)\n",
    "    tau_rc = NumberParam(\"tau_rc\", low=0, low_open=True)\n",
    "    tau_ref = NumberParam(\"tau_ref\", low=0)\n",
    "    amplitude = NumberParam(\"amplitude\", low=0, low_open=True)\n",
    "    num = NumberParam(\"num\")\n",
    "    S = NdarrayParam(\"S\")  # adjacency matrix\n",
    "    \n",
    "    def __init__(self, S, num, tau_rc=0.02, tau_ref=0.002, min_voltage=0, amplitude=1):\n",
    "        super().__init__()\n",
    "        self.tau_rc = tau_rc\n",
    "        self.tau_ref = tau_ref\n",
    "        self.amplitude = amplitude\n",
    "        self.min_voltage = min_voltage\n",
    "        self.num = num\n",
    "        self.S = S\n",
    "\n",
    "    def gain_bias(self, max_rates, intercepts):\n",
    "        \"\"\"Analytically determine gain, bias.\"\"\"\n",
    "        max_rates = np.array(max_rates, dtype=float, copy=False, ndmin=1)\n",
    "        intercepts = np.array(intercepts, dtype=float, copy=False, ndmin=1)\n",
    "\n",
    "        inv_tau_ref = 1.0 / self.tau_ref if self.tau_ref > 0 else np.inf\n",
    "        if np.any(max_rates > inv_tau_ref):\n",
    "            raise ValidationError(\n",
    "                \"Max rates must be below the inverse \"\n",
    "                \"refractory period (%0.3f)\" % inv_tau_ref,\n",
    "                attr=\"max_rates\",\n",
    "                obj=self,\n",
    "            )\n",
    "\n",
    "        x = 1.0 / (1 - np.exp((self.tau_ref - (1.0 / max_rates)) / self.tau_rc))\n",
    "        gain = (1 - x) / (intercepts - 1.0)\n",
    "        bias = 1 - gain * intercepts\n",
    "        return gain, bias\n",
    "    \n",
    "\n",
    "    def max_rates_intercepts(self, gain, bias):\n",
    "        \"\"\"Compute the inverse of gain_bias.\"\"\"\n",
    "        intercepts = (1 - bias) / gain\n",
    "        max_rates = 1.0 / (\n",
    "            self.tau_ref - self.tau_rc * np.log1p(1.0 / (gain * (intercepts - 1) - 1))\n",
    "        )\n",
    "        if not np.all(np.isfinite(max_rates)):\n",
    "            warnings.warn(\n",
    "                \"Non-finite values detected in `max_rates`; this \"\n",
    "                \"probably means that `gain` was too small.\"\n",
    "            )\n",
    "        return max_rates, intercepts\n",
    "\n",
    "\n",
    "    def rates(self, x, gain, bias):\n",
    "        \"\"\"Always use LIFRate to determine rates.\"\"\"\n",
    "        J = self.current(x, gain, bias)\n",
    "        out = np.zeros_like(J)\n",
    "        # Use LIFRate's step_math explicitly to ensure rate approximation\n",
    "        LIFRate.step_math(self, dt=1, J=J, output=out)\n",
    "        return out\n",
    "\n",
    "\n",
    "    def step_math(self, dt, J, spiked, voltage, refractory_time):        \n",
    "        print('init voltage = {}'.format(voltage))\n",
    "        # reduce all refractory times by dt\n",
    "        refractory_time -= dt\n",
    "\n",
    "        # compute effective dt for each neuron, based on remaining time.\n",
    "        # note that refractory times that have completed midway into this\n",
    "        # timestep will be given a partial timestep, and moreover these will\n",
    "        # be subtracted to zero at the next timestep (or reset by a spike)\n",
    "        delta_t = (dt - refractory_time).clip(0, dt)\n",
    "        \n",
    "        # step voltage\n",
    "        U = np.matmul(spiked, S)\n",
    "        print('U = {}'.format(U))\n",
    "        eta = 3*np.random.rand(3,)\n",
    "        print('eta = {}'.format(eta))\n",
    "        dV = (-1/self.tau_rc) * voltage + U + eta\n",
    "        print('dV = {}'.format(dV))\n",
    "        voltage[:] += dV * dt * 1000\n",
    "        print('final voltage = {}'.format(voltage))\n",
    "        \n",
    "        # determine which neurons spiked (set them to 1/dt, else 0)\n",
    "        spiked_mask = voltage > 1\n",
    "        spiked[:] = spiked_mask * (self.amplitude / dt)\n",
    "        print('spiked = {}'.format(spiked))\n",
    "\n",
    "        # set v(0) = 1 and solve for t to compute the spike time\n",
    "        t_spike = dt + self.tau_rc * np.log1p(\n",
    "            -(voltage[spiked_mask] - 1) / (J[spiked_mask] - 1)\n",
    "        )\n",
    "\n",
    "        # set spiked voltages to zero, refractory times to tau_ref, and\n",
    "        # rectify negative voltages to a floor of min_voltage\n",
    "        voltage[voltage < self.min_voltage] = self.min_voltage\n",
    "        voltage[spiked_mask] = 0\n",
    "        refractory_time[spiked_mask] = self.tau_ref + t_spike"
   ]
  },
  {
   "cell_type": "code",
   "execution_count": 2,
   "metadata": {},
   "outputs": [],
   "source": [
    "from nengo.builder.operator import Operator\n",
    "\n",
    "class SimCustomLIF(Operator):\n",
    "    \"\"\"Set a neuron model output for the given input current.\n",
    "\n",
    "    Implements ``neurons.step_math(dt, J, output, *states)``.\n",
    "\n",
    "    Parameters\n",
    "    ----------\n",
    "    neurons : NeuronType\n",
    "        The `.NeuronType`, which defines a ``step_math`` function.\n",
    "    J : Signal\n",
    "        The input current.\n",
    "    output : Signal\n",
    "        The neuron output signal that will be set.\n",
    "    states : list, optional\n",
    "        A list of additional neuron state signals set by ``step_math``.\n",
    "    tag : str, optional\n",
    "        A label associated with the operator, for debugging purposes.\n",
    "\n",
    "    Attributes\n",
    "    ----------\n",
    "    J : Signal\n",
    "        The input current.\n",
    "    neurons : NeuronType\n",
    "        The `.NeuronType`, which defines a ``step_math`` function.\n",
    "    output : Signal\n",
    "        The neuron output signal that will be set.\n",
    "    states : list\n",
    "        A list of additional neuron state signals set by ``step_math``.\n",
    "    tag : str or None\n",
    "        A label associated with the operator, for debugging purposes.\n",
    "\n",
    "    Notes\n",
    "    -----\n",
    "    1. sets ``[output] + states``\n",
    "    2. incs ``[]``\n",
    "    3. reads ``[J]``\n",
    "    4. updates ``[]``\n",
    "    \"\"\"\n",
    "    \n",
    "    def __init__(self, neurons, J, output, states=None, tag=None):\n",
    "        super().__init__(tag=tag)\n",
    "        self.neurons = neurons\n",
    "\n",
    "        self.sets = [output] + ([] if states is None else states)\n",
    "        self.incs = []\n",
    "        self.reads = [J]\n",
    "        self.updates = []\n",
    "\n",
    "    @property\n",
    "    def J(self):\n",
    "        return self.reads[0]\n",
    "\n",
    "    @property\n",
    "    def output(self):\n",
    "        return self.sets[0]\n",
    "\n",
    "    @property\n",
    "    def states(self):\n",
    "        return self.sets[1:]\n",
    "\n",
    "    def _descstr(self):\n",
    "        return \"%s, %s, %s\" % (self.neurons, self.J, self.output)\n",
    "\n",
    "    def make_step(self, signals, dt, rng):\n",
    "        J = signals[self.J]\n",
    "        output = signals[self.output]\n",
    "        states = [signals[state] for state in self.states]\n",
    "\n",
    "        def step_simcustomlif():\n",
    "            self.neurons.step_math(dt, J, output, *states)\n",
    "\n",
    "        return step_simcustomlif"
   ]
  },
  {
   "cell_type": "code",
   "execution_count": 3,
   "metadata": {},
   "outputs": [],
   "source": [
    "from nengo.builder import Builder\n",
    "from nengo.builder.operator import Copy\n",
    "from nengo.builder.signal import Signal\n",
    "from nengo.rc import rc\n",
    "\n",
    "\n",
    "@Builder.register(CustomLIF)\n",
    "def build_customlif(model, neuron_type, neurons):\n",
    "    \"\"\"Builds a `.LIF` object into a model.\n",
    "\n",
    "    In addition to adding a `.SimNeurons` operator, this build function sets up\n",
    "    signals to track the voltage and refractory times for each neuron.\n",
    "\n",
    "    Parameters\n",
    "    ----------\n",
    "    model : Model\n",
    "        The model to build into.\n",
    "    neuron_type : CustomLIF\n",
    "        Neuron type to build.\n",
    "    neuron : Neurons\n",
    "        The neuron population object corresponding to the neuron type.\n",
    "\n",
    "    Notes\n",
    "    -----\n",
    "    Does not modify ``model.params[]`` and can therefore be called\n",
    "    more than once with the same `.LIF` instance.\n",
    "    \"\"\"\n",
    "\n",
    "    model.sig[neurons][\"voltage\"] = Signal(\n",
    "        shape=neurons.size_in, name=\"%s.voltage\" % neurons\n",
    "    )\n",
    "    model.sig[neurons][\"refractory_time\"] = Signal(\n",
    "        shape=neurons.size_in, name=\"%s.refractory_time\" % neurons\n",
    "    )\n",
    "    model.add_op(\n",
    "        SimCustomLIF(\n",
    "            neurons=neuron_type,\n",
    "            J=model.sig[neurons][\"in\"],\n",
    "            output=model.sig[neurons][\"out\"],\n",
    "            states=[\n",
    "                model.sig[neurons][\"voltage\"],\n",
    "                model.sig[neurons][\"refractory_time\"],\n",
    "            ],\n",
    "        )\n",
    "    )"
   ]
  },
  {
   "cell_type": "code",
   "execution_count": 4,
   "metadata": {},
   "outputs": [
    {
     "name": "stdout",
     "output_type": "stream",
     "text": [
      "S = [[ 0.          0.         -1.78345793]\n",
      " [ 0.          0.         -2.04026748]\n",
      " [-1.78345793 -2.04026748  0.        ]]\n"
     ]
    },
    {
     "data": {
      "application/vdom.v1+json": {
       "attributes": {},
       "tagName": "div"
      },
      "text/html": [
       "\n",
       "                <script>\n",
       "                    if (Jupyter.version.split(\".\")[0] < 5) {\n",
       "                        var pb = document.getElementById(\"bcb4ec48-722b-421f-89e3-97277db6cc58\");\n",
       "                        var text = document.createTextNode(\n",
       "                            \"HMTL progress bar requires Jupyter Notebook >= \" +\n",
       "                            \"5.0 or Jupyter Lab. Alternatively, you can use \" +\n",
       "                            \"TerminalProgressBar().\");\n",
       "                        pb.parentNode.insertBefore(text, pb);\n",
       "                    }\n",
       "                </script>\n",
       "                <div id=\"bcb4ec48-722b-421f-89e3-97277db6cc58\" style=\"\n",
       "                    width: 100%;\n",
       "                    border: 1px solid #cfcfcf;\n",
       "                    border-radius: 4px;\n",
       "                    text-align: center;\n",
       "                    position: relative;\">\n",
       "                  <div class=\"pb-text\" style=\"\n",
       "                      position: absolute;\n",
       "                      width: 100%;\">\n",
       "                    0%\n",
       "                  </div>\n",
       "                  <div class=\"pb-fill\" style=\"\n",
       "                      background-color: #bdd2e6;\n",
       "                      width: 0%;\">\n",
       "                    <style type=\"text/css\" scoped=\"scoped\">\n",
       "                        @keyframes pb-fill-anim {\n",
       "                            0% { background-position: 0 0; }\n",
       "                            100% { background-position: 100px 0; }\n",
       "                        }\n",
       "                    </style>\n",
       "                    &nbsp;\n",
       "                  </div>\n",
       "                </div>"
      ],
      "text/plain": [
       "HtmlProgressBar cannot be displayed. Please use the TerminalProgressBar. It can be enabled with `nengo.rc.set('progress', 'progress_bar', 'nengo.utils.progress.TerminalProgressBar')`."
      ]
     },
     "metadata": {},
     "output_type": "display_data"
    },
    {
     "data": {
      "application/vdom.v1+json": {
       "attributes": {
        "id": "d9398255-fbd3-435e-85c6-89621e377f59",
        "style": {
         "border": "1px solid #cfcfcf",
         "borderRadius": "4px",
         "boxSizing": "border-box",
         "position": "relative",
         "textAlign": "center",
         "width": "100%"
        }
       },
       "children": [
        {
         "attributes": {
          "class": "pb-text",
          "style": {
           "position": "absolute",
           "width": "100%"
          }
         },
         "children": [
          "Build finished in 0:00:01."
         ],
         "tagName": "div"
        },
        {
         "attributes": {
          "class": "pb-fill",
          "style": {
           "animation": "none",
           "backgroundColor": "#bdd2e6",
           "backgroundImage": "none",
           "backgroundSize": "100px 100%",
           "width": "100%"
          }
         },
         "children": [
          {
           "attributes": {
            "scoped": "scoped",
            "type": "text/css"
           },
           "children": [
            "\n                        @keyframes pb-fill-anim {\n                            0% { background-position: 0 0; }\n                            100% { background-position: 100px 0; }\n                        }}"
           ],
           "tagName": "style"
          },
          " "
         ],
         "tagName": "div"
        }
       ],
       "tagName": "div"
      },
      "text/html": [
       "<script>\n",
       "              (function () {\n",
       "                  var root = document.getElementById('bcb4ec48-722b-421f-89e3-97277db6cc58');\n",
       "                  var text = root.getElementsByClassName('pb-text')[0];\n",
       "                  var fill = root.getElementsByClassName('pb-fill')[0];\n",
       "\n",
       "                  text.innerHTML = 'Build finished in 0:00:01.';\n",
       "                  \n",
       "            fill.style.width = '100%';\n",
       "            fill.style.animation = 'pb-fill-anim 2s linear infinite';\n",
       "            fill.style.backgroundSize = '100px 100%';\n",
       "            fill.style.backgroundImage = 'repeating-linear-gradient(' +\n",
       "                '90deg, #bdd2e6, #edf2f8 40%, #bdd2e6 80%, #bdd2e6)';\n",
       "        \n",
       "                  \n",
       "                fill.style.animation = 'none';\n",
       "                fill.style.backgroundImage = 'none';\n",
       "            \n",
       "              })();\n",
       "        </script>"
      ]
     },
     "metadata": {},
     "output_type": "display_data"
    },
    {
     "name": "stdout",
     "output_type": "stream",
     "text": [
      "init voltage = [0. 0. 0.]\n",
      "U = [0. 0. 0.]\n",
      "eta = [2.78911879 1.96220147 0.33889833]\n",
      "dV = [2.78911879 1.96220147 0.33889833]\n",
      "final voltage = [2.78911879 1.96220147 0.33889833]\n",
      "spiked = [1000. 1000.    0.]\n",
      "init voltage = [0.         0.         0.33889833]\n",
      "U = [    0.             0.         -3823.72540867]\n",
      "eta = [1.65087935 0.61161519 2.16095186]\n",
      "dV = [ 1.65087935e+00  6.11615187e-01 -3.83850937e+03]\n",
      "final voltage = [ 1.65087935e+00  6.11615187e-01 -3.83817047e+03]\n",
      "spiked = [1000.    0.    0.]\n",
      "init voltage = [0.         0.61161519 0.        ]\n",
      "U = [    0.             0.         -1783.45792511]\n",
      "eta = [0.74099615 1.67857728 1.16039566]\n",
      "dV = [ 7.40996152e-01 -2.89021821e+01 -1.78229753e+03]\n",
      "final voltage = [ 7.40996152e-01 -2.82905669e+01 -1.78229753e+03]\n",
      "spiked = [0. 0. 0.]\n",
      "init voltage = [0.74099615 0.         0.        ]\n",
      "U = [0. 0. 0.]\n",
      "eta = [2.26886123 1.91009909 0.82011487]\n",
      "dV = [-34.78094636   1.91009909   0.82011487]\n",
      "final voltage = [-34.03995021   1.91009909   0.82011487]\n",
      "spiked = [   0. 1000.    0.]\n",
      "init voltage = [0.         0.         0.82011487]\n",
      "U = [    0.             0.         -2040.26748356]\n",
      "eta = [0.55244409 2.09106768 1.82665241]\n",
      "dV = [ 5.52444093e-01  2.09106768e+00 -2.07944657e+03]\n",
      "final voltage = [ 5.52444093e-01  2.09106768e+00 -2.07862646e+03]\n",
      "spiked = [   0. 1000.    0.]\n",
      "init voltage = [0.55244409 0.         0.        ]\n",
      "U = [    0.             0.         -2040.26748356]\n",
      "eta = [0.66733011 0.29674939 0.39376579]\n",
      "dV = [-2.69548745e+01  2.96749391e-01 -2.03987372e+03]\n",
      "final voltage = [-2.64024305e+01  2.96749391e-01 -2.03987372e+03]\n",
      "spiked = [0. 0. 0.]\n",
      "init voltage = [0.         0.29674939 0.        ]\n",
      "U = [0. 0. 0.]\n",
      "eta = [2.77513316 1.49632892 2.08154699]\n",
      "dV = [  2.77513316 -13.34114063   2.08154699]\n",
      "final voltage = [  2.77513316 -13.04439124   2.08154699]\n",
      "spiked = [1000.    0. 1000.]\n",
      "init voltage = [0. 0. 0.]\n",
      "U = [-1783.45792511 -2040.26748356 -1783.45792511]\n",
      "eta = [2.07172993 2.12711751 2.86650703]\n",
      "dV = [-1781.38619518 -2038.14036605 -1780.59141809]\n",
      "final voltage = [-1781.38619518 -2038.14036605 -1780.59141809]\n",
      "spiked = [0. 0. 0.]\n",
      "init voltage = [0. 0. 0.]\n",
      "U = [0. 0. 0.]\n",
      "eta = [0.63551144 1.56958717 2.13907008]\n",
      "dV = [0.63551144 1.56958717 2.13907008]\n",
      "final voltage = [0.63551144 1.56958717 2.13907008]\n",
      "spiked = [   0. 1000. 1000.]\n",
      "init voltage = [0.63551144 0.         0.        ]\n",
      "U = [-1783.45792511 -2040.26748356 -2040.26748356]\n",
      "eta = [0.50544628 0.52654051 0.94177035]\n",
      "dV = [-1814.72805076 -2039.74094305 -2039.32571321]\n",
      "final voltage = [-1814.09253932 -2039.74094305 -2039.32571321]\n",
      "spiked = [0. 0. 0.]\n",
      "init voltage = [0. 0. 0.]\n",
      "U = [0. 0. 0.]\n",
      "eta = [1.69071506 2.65818539 0.81550992]\n",
      "dV = [1.69071506 2.65818539 0.81550992]\n",
      "final voltage = [1.69071506 2.65818539 0.81550992]\n",
      "spiked = [1000. 1000.    0.]\n",
      "init voltage = [0.         0.         0.81550992]\n",
      "U = [    0.             0.         -3823.72540867]\n",
      "eta = [0.36539726 0.07115901 0.73130689]\n",
      "dV = [ 3.65397256e-01  7.11590134e-02 -3.86376960e+03]\n",
      "final voltage = [ 3.65397256e-01  7.11590134e-02 -3.86295409e+03]\n",
      "spiked = [0. 0. 0.]\n",
      "init voltage = [0.36539726 0.07115901 0.        ]\n",
      "U = [0. 0. 0.]\n",
      "eta = [0.09803021 0.60888522 1.32281883]\n",
      "dV = [-18.17183261  -2.94906545   1.32281883]\n",
      "final voltage = [-17.80643536  -2.87790643   1.32281883]\n",
      "spiked = [   0.    0. 1000.]\n",
      "init voltage = [0. 0. 0.]\n",
      "U = [-1783.45792511 -2040.26748356     0.        ]\n",
      "eta = [0.25316168 2.64759573 0.5059808 ]\n",
      "dV = [-1.78320476e+03 -2.03761989e+03  5.05980799e-01]\n",
      "final voltage = [-1.78320476e+03 -2.03761989e+03  5.05980799e-01]\n",
      "spiked = [0. 0. 0.]\n",
      "init voltage = [0.        0.        0.5059808]\n",
      "U = [0. 0. 0.]\n",
      "eta = [2.15826744 0.21028877 0.77074839]\n",
      "dV = [  2.15826744   0.21028877 -24.52829154]\n",
      "final voltage = [  2.15826744   0.21028877 -24.02231074]\n",
      "spiked = [1000.    0.    0.]\n",
      "init voltage = [0.         0.21028877 0.        ]\n",
      "U = [    0.             0.         -1783.45792511]\n",
      "eta = [1.45249601 0.90686275 0.1684961 ]\n",
      "dV = [ 1.45249601e+00 -9.60757570e+00 -1.78328943e+03]\n",
      "final voltage = [ 1.45249601e+00 -9.39728693e+00 -1.78328943e+03]\n",
      "spiked = [1000.    0.    0.]\n",
      "init voltage = [0. 0. 0.]\n",
      "U = [    0.             0.         -1783.45792511]\n",
      "eta = [2.51918265 2.01440424 0.79380805]\n",
      "dV = [    2.51918265     2.01440424 -1782.66411707]\n",
      "final voltage = [    2.51918265     2.01440424 -1782.66411707]\n",
      "spiked = [1000. 1000.    0.]\n",
      "init voltage = [0. 0. 0.]\n",
      "U = [    0.             0.         -3823.72540867]\n",
      "eta = [2.1199455  1.0788472  2.65042747]\n",
      "dV = [ 2.11994550e+00  1.07884720e+00 -3.82107498e+03]\n",
      "final voltage = [ 2.11994550e+00  1.07884720e+00 -3.82107498e+03]\n",
      "spiked = [1000. 1000.    0.]\n",
      "init voltage = [0. 0. 0.]\n",
      "U = [    0.             0.         -3823.72540867]\n",
      "eta = [1.73933838 0.38760144 2.42271998]\n",
      "dV = [ 1.73933838e+00  3.87601443e-01 -3.82130269e+03]\n",
      "final voltage = [ 1.73933838e+00  3.87601443e-01 -3.82130269e+03]\n",
      "spiked = [1000.    0.    0.]\n",
      "init voltage = [0.         0.38760144 0.        ]\n",
      "U = [    0.             0.         -1783.45792511]\n",
      "eta = [2.7782964  0.0181082  2.04759525]\n",
      "dV = [    2.7782964    -19.36196395 -1781.41032987]\n",
      "final voltage = [    2.7782964    -18.97436251 -1781.41032987]\n",
      "spiked = [1000.    0.    0.]\n"
     ]
    },
    {
     "data": {
      "application/vdom.v1+json": {
       "attributes": {},
       "tagName": "div"
      },
      "text/html": [
       "\n",
       "                <script>\n",
       "                    if (Jupyter.version.split(\".\")[0] < 5) {\n",
       "                        var pb = document.getElementById(\"c387b1de-be96-44b6-b37a-c06f2f9ff238\");\n",
       "                        var text = document.createTextNode(\n",
       "                            \"HMTL progress bar requires Jupyter Notebook >= \" +\n",
       "                            \"5.0 or Jupyter Lab. Alternatively, you can use \" +\n",
       "                            \"TerminalProgressBar().\");\n",
       "                        pb.parentNode.insertBefore(text, pb);\n",
       "                    }\n",
       "                </script>\n",
       "                <div id=\"c387b1de-be96-44b6-b37a-c06f2f9ff238\" style=\"\n",
       "                    width: 100%;\n",
       "                    border: 1px solid #cfcfcf;\n",
       "                    border-radius: 4px;\n",
       "                    text-align: center;\n",
       "                    position: relative;\">\n",
       "                  <div class=\"pb-text\" style=\"\n",
       "                      position: absolute;\n",
       "                      width: 100%;\">\n",
       "                    0%\n",
       "                  </div>\n",
       "                  <div class=\"pb-fill\" style=\"\n",
       "                      background-color: #bdd2e6;\n",
       "                      width: 0%;\">\n",
       "                    <style type=\"text/css\" scoped=\"scoped\">\n",
       "                        @keyframes pb-fill-anim {\n",
       "                            0% { background-position: 0 0; }\n",
       "                            100% { background-position: 100px 0; }\n",
       "                        }\n",
       "                    </style>\n",
       "                    &nbsp;\n",
       "                  </div>\n",
       "                </div>"
      ],
      "text/plain": [
       "HtmlProgressBar cannot be displayed. Please use the TerminalProgressBar. It can be enabled with `nengo.rc.set('progress', 'progress_bar', 'nengo.utils.progress.TerminalProgressBar')`."
      ]
     },
     "metadata": {},
     "output_type": "display_data"
    },
    {
     "data": {
      "application/vdom.v1+json": {
       "attributes": {
        "id": "b5e0f54d-4099-4047-b8e7-0a5f17b49985",
        "style": {
         "border": "1px solid #cfcfcf",
         "borderRadius": "4px",
         "boxSizing": "border-box",
         "position": "relative",
         "textAlign": "center",
         "width": "100%"
        }
       },
       "children": [
        {
         "attributes": {
          "class": "pb-text",
          "style": {
           "position": "absolute",
           "width": "100%"
          }
         },
         "children": [
          "Simulation finished in 0:00:01."
         ],
         "tagName": "div"
        },
        {
         "attributes": {
          "class": "pb-fill",
          "style": {
           "animation": "none",
           "backgroundColor": "#bdd2e6",
           "backgroundImage": "none",
           "transition": "width 0.1s linear",
           "width": "100%"
          }
         },
         "children": [
          {
           "attributes": {
            "scoped": "scoped",
            "type": "text/css"
           },
           "children": [
            "\n                        @keyframes pb-fill-anim {\n                            0% { background-position: 0 0; }\n                            100% { background-position: 100px 0; }\n                        }}"
           ],
           "tagName": "style"
          },
          " "
         ],
         "tagName": "div"
        }
       ],
       "tagName": "div"
      },
      "text/html": [
       "<script>\n",
       "              (function () {\n",
       "                  var root = document.getElementById('c387b1de-be96-44b6-b37a-c06f2f9ff238');\n",
       "                  var text = root.getElementsByClassName('pb-text')[0];\n",
       "                  var fill = root.getElementsByClassName('pb-fill')[0];\n",
       "\n",
       "                  text.innerHTML = 'Simulation finished in 0:00:01.';\n",
       "                  \n",
       "            if (100.0 > 0.) {\n",
       "                fill.style.transition = 'width 0.1s linear';\n",
       "            } else {\n",
       "                fill.style.transition = 'none';\n",
       "            }\n",
       "\n",
       "            fill.style.width = '100.0%';\n",
       "            fill.style.animation = 'none';\n",
       "            fill.style.backgroundImage = 'none'\n",
       "        \n",
       "                  \n",
       "                fill.style.animation = 'none';\n",
       "                fill.style.backgroundImage = 'none';\n",
       "            \n",
       "              })();\n",
       "        </script>"
      ]
     },
     "metadata": {},
     "output_type": "display_data"
    },
    {
     "data": {
      "text/plain": [
       "Text(0, 0.5, 'Neuron number')"
      ]
     },
     "execution_count": 4,
     "metadata": {},
     "output_type": "execute_result"
    },
    {
     "data": {
      "image/png": "[encoded data removed]",
      "text/plain": [
       "<Figure size 864x432 with 1 Axes>"
      ]
     },
     "metadata": {
      "needs_background": "light"
     },
     "output_type": "display_data"
    },
    {
     "data": {
      "image/png": "[encoded data removed]",
      "text/plain": [
       "<Figure size 864x432 with 1 Axes>"
      ]
     },
     "metadata": {
      "needs_background": "light"
     },
     "output_type": "display_data"
    },
    {
     "data": {
      "image/png": "[encoded data removed]",
      "text/plain": [
       "<Figure size 864x432 with 1 Axes>"
      ]
     },
     "metadata": {
      "needs_background": "light"
     },
     "output_type": "display_data"
    },
    {
     "data": {
      "image/png": "[encoded data removed]",
      "text/plain": [
       "<Figure size 864x432 with 1 Axes>"
      ]
     },
     "metadata": {
      "needs_background": "light"
     },
     "output_type": "display_data"
    }
   ],
   "source": [
    "from nengo.utils.matplotlib import rasterplot\n",
    "\n",
    "S = adjacency(3, 3, 6, 28)\n",
    "print('S = {}'.format(S))\n",
    "\n",
    "model = nengo.Network(label='2D Representation', seed=10)\n",
    "process = nengo.processes.WhiteNoise(\n",
    "    dist=nengo.dists.Gaussian(0, .01), seed=1)\n",
    "with model:\n",
    "    a = nengo.Ensemble(3, dimensions=2, noise=process, neuron_type=CustomLIF(S, 3))\n",
    "    b = nengo.Ensemble(3, dimensions=2, noise=process, neuron_type=nengo.LIF())\n",
    "    spikes_probe = nengo.Probe(a.neurons, 'spikes')\n",
    "    voltage_probe = nengo.Probe(a.neurons, 'voltage')\n",
    "    b_spikes = nengo.Probe(b.neurons, 'spikes')\n",
    "    b_voltage = nengo.Probe(b.neurons, 'voltage')\n",
    "with nengo.Simulator(model) as sim:\n",
    "    sim.run(.02)\n",
    "    \n",
    "# Custom LIF neurons\n",
    "plt.figure(figsize=(12, 6))\n",
    "plt.plot(sim.trange(), sim.data[voltage_probe], label=\"voltage\")\n",
    "plt.xlabel('time [s]')\n",
    "plt.ylabel('voltage')\n",
    "plt.legend(loc=4);\n",
    "\n",
    "plt.figure(figsize=(12, 6))\n",
    "rasterplot(sim.trange(), sim.data[spikes_probe])\n",
    "plt.xlabel('time [s]')\n",
    "plt.ylabel('Neuron number')\n",
    "\n",
    "# Compare to Nengo's LIF neurons\n",
    "plt.figure(figsize=(12, 6))\n",
    "plt.plot(sim.trange(), sim.data[b_voltage], label=\"voltage\")\n",
    "plt.xlabel('time [s]')\n",
    "plt.ylabel('voltage')\n",
    "plt.legend(loc=4);\n",
    "\n",
    "plt.figure(figsize=(12, 6))\n",
    "rasterplot(sim.trange(), sim.data[b_spikes])\n",
    "plt.xlabel('time [s]')\n",
    "plt.ylabel('Neuron number')"
   ]
  }
 ],
 "metadata": {
  "kernelspec": {
   "display_name": "Python 3",
   "language": "python",
   "name": "python3"
  },
  "language_info": {
   "codemirror_mode": {
    "name": "ipython",
    "version": 3
   },
   "file_extension": ".py",
   "mimetype": "text/x-python",
   "name": "python",
   "nbconvert_exporter": "python",
   "pygments_lexer": "ipython3",
   "version": "3.7.4"
  }
 },
 "nbformat": 4,
 "nbformat_minor": 4
}
