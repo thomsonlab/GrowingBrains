{
 "cells": [
  {
   "cell_type": "markdown",
   "metadata": {},
   "source": [
    "Track voltage for single LIF neuron with noise and without noise\n",
    "Also track spikes and refractory time of LIF neuron with noise over time."
   ]
  },
  {
   "cell_type": "markdown",
   "metadata": {},
   "source": [
    "In code for nengo.neurons (https://www.nengo.ai/nengo/_modules/nengo/neurons.html): \n",
    "    \n",
    "class LIF(LIFRate):\n",
    "    \"\"\"Spiking version of the leaky integrate-and-fire (LIF) neuron model.\n",
    "\n",
    "    Parameters\n",
    "    ----------\n",
    "    tau_rc : float\n",
    "        Membrane RC time constant, in seconds. Affects how quickly the membrane\n",
    "        voltage decays to zero in the absence of input (larger = slower decay).\n",
    "    tau_ref : float\n",
    "        Absolute refractory period, in seconds. This is how long the\n",
    "        membrane voltage is held at zero after a spike.\n",
    "    min_voltage : float\n",
    "        Minimum value for the membrane voltage. If ``-np.inf``, the voltage\n",
    "        is never clipped.\n",
    "    amplitude : float\n",
    "        Scaling factor on the neuron output. Corresponds to the relative\n",
    "        amplitude of the output spikes of the neuron.\n",
    "    \"\"\"\n",
    "    \n",
    "probeable = (\"spikes\", \"voltage\", \"refractory_time\")"
   ]
  },
  {
   "cell_type": "markdown",
   "metadata": {},
   "source": [
    "pip install nengo\n",
    "pip install nengo-extras"
   ]
  },
  {
   "cell_type": "code",
   "execution_count": 1,
   "metadata": {},
   "outputs": [
    {
     "data": {
      "application/vdom.v1+json": {
       "attributes": {},
       "tagName": "div"
      },
      "text/html": [
       "\n",
       "                <script>\n",
       "                    if (Jupyter.version.split(\".\")[0] < 5) {\n",
       "                        var pb = document.getElementById(\"97e0a49a-ee15-48f9-be6e-cecacaad6dcd\");\n",
       "                        var text = document.createTextNode(\n",
       "                            \"HMTL progress bar requires Jupyter Notebook >= \" +\n",
       "                            \"5.0 or Jupyter Lab. Alternatively, you can use \" +\n",
       "                            \"TerminalProgressBar().\");\n",
       "                        pb.parentNode.insertBefore(text, pb);\n",
       "                    }\n",
       "                </script>\n",
       "                <div id=\"97e0a49a-ee15-48f9-be6e-cecacaad6dcd\" style=\"\n",
       "                    width: 100%;\n",
       "                    border: 1px solid #cfcfcf;\n",
       "                    border-radius: 4px;\n",
       "                    text-align: center;\n",
       "                    position: relative;\">\n",
       "                  <div class=\"pb-text\" style=\"\n",
       "                      position: absolute;\n",
       "                      width: 100%;\">\n",
       "                    0%\n",
       "                  </div>\n",
       "                  <div class=\"pb-fill\" style=\"\n",
       "                      background-color: #bdd2e6;\n",
       "                      width: 0%;\">\n",
       "                    <style type=\"text/css\" scoped=\"scoped\">\n",
       "                        @keyframes pb-fill-anim {\n",
       "                            0% { background-position: 0 0; }\n",
       "                            100% { background-position: 100px 0; }\n",
       "                        }\n",
       "                    </style>\n",
       "                    &nbsp;\n",
       "                  </div>\n",
       "                </div>"
      ],
      "text/plain": [
       "HtmlProgressBar cannot be displayed. Please use the TerminalProgressBar. It can be enabled with `nengo.rc.set('progress', 'progress_bar', 'nengo.utils.progress.TerminalProgressBar')`."
      ]
     },
     "metadata": {},
     "output_type": "display_data"
    },
    {
     "data": {
      "application/vdom.v1+json": {
       "attributes": {
        "id": "8b98d88b-6da9-4e87-97de-04183f093483",
        "style": {
         "border": "1px solid #cfcfcf",
         "borderRadius": "4px",
         "boxSizing": "border-box",
         "position": "relative",
         "textAlign": "center",
         "width": "100%"
        }
       },
       "children": [
        {
         "attributes": {
          "class": "pb-text",
          "style": {
           "position": "absolute",
           "width": "100%"
          }
         },
         "children": [
          "Build finished in 0:00:01."
         ],
         "tagName": "div"
        },
        {
         "attributes": {
          "class": "pb-fill",
          "style": {
           "animation": "none",
           "backgroundColor": "#bdd2e6",
           "backgroundImage": "none",
           "backgroundSize": "100px 100%",
           "width": "100%"
          }
         },
         "children": [
          {
           "attributes": {
            "scoped": "scoped",
            "type": "text/css"
           },
           "children": [
            "\n                        @keyframes pb-fill-anim {\n                            0% { background-position: 0 0; }\n                            100% { background-position: 100px 0; }\n                        }}"
           ],
           "tagName": "style"
          },
          " "
         ],
         "tagName": "div"
        }
       ],
       "tagName": "div"
      },
      "text/html": [
       "<script>\n",
       "              (function () {\n",
       "                  var root = document.getElementById('97e0a49a-ee15-48f9-be6e-cecacaad6dcd');\n",
       "                  var text = root.getElementsByClassName('pb-text')[0];\n",
       "                  var fill = root.getElementsByClassName('pb-fill')[0];\n",
       "\n",
       "                  text.innerHTML = 'Build finished in 0:00:01.';\n",
       "                  \n",
       "            fill.style.width = '100%';\n",
       "            fill.style.animation = 'pb-fill-anim 2s linear infinite';\n",
       "            fill.style.backgroundSize = '100px 100%';\n",
       "            fill.style.backgroundImage = 'repeating-linear-gradient(' +\n",
       "                '90deg, #bdd2e6, #edf2f8 40%, #bdd2e6 80%, #bdd2e6)';\n",
       "        \n",
       "                  \n",
       "                fill.style.animation = 'none';\n",
       "                fill.style.backgroundImage = 'none';\n",
       "            \n",
       "              })();\n",
       "        </script>"
      ]
     },
     "metadata": {},
     "output_type": "display_data"
    },
    {
     "data": {
      "application/vdom.v1+json": {
       "attributes": {},
       "tagName": "div"
      },
      "text/html": [
       "\n",
       "                <script>\n",
       "                    if (Jupyter.version.split(\".\")[0] < 5) {\n",
       "                        var pb = document.getElementById(\"0cfb18dd-0171-4a6b-9096-9e0b566fd39d\");\n",
       "                        var text = document.createTextNode(\n",
       "                            \"HMTL progress bar requires Jupyter Notebook >= \" +\n",
       "                            \"5.0 or Jupyter Lab. Alternatively, you can use \" +\n",
       "                            \"TerminalProgressBar().\");\n",
       "                        pb.parentNode.insertBefore(text, pb);\n",
       "                    }\n",
       "                </script>\n",
       "                <div id=\"0cfb18dd-0171-4a6b-9096-9e0b566fd39d\" style=\"\n",
       "                    width: 100%;\n",
       "                    border: 1px solid #cfcfcf;\n",
       "                    border-radius: 4px;\n",
       "                    text-align: center;\n",
       "                    position: relative;\">\n",
       "                  <div class=\"pb-text\" style=\"\n",
       "                      position: absolute;\n",
       "                      width: 100%;\">\n",
       "                    0%\n",
       "                  </div>\n",
       "                  <div class=\"pb-fill\" style=\"\n",
       "                      background-color: #bdd2e6;\n",
       "                      width: 0%;\">\n",
       "                    <style type=\"text/css\" scoped=\"scoped\">\n",
       "                        @keyframes pb-fill-anim {\n",
       "                            0% { background-position: 0 0; }\n",
       "                            100% { background-position: 100px 0; }\n",
       "                        }\n",
       "                    </style>\n",
       "                    &nbsp;\n",
       "                  </div>\n",
       "                </div>"
      ],
      "text/plain": [
       "HtmlProgressBar cannot be displayed. Please use the TerminalProgressBar. It can be enabled with `nengo.rc.set('progress', 'progress_bar', 'nengo.utils.progress.TerminalProgressBar')`."
      ]
     },
     "metadata": {},
     "output_type": "display_data"
    },
    {
     "data": {
      "application/vdom.v1+json": {
       "attributes": {
        "id": "80515c8b-b2c0-49cd-bd42-7e08287c4d97",
        "style": {
         "border": "1px solid #cfcfcf",
         "borderRadius": "4px",
         "boxSizing": "border-box",
         "position": "relative",
         "textAlign": "center",
         "width": "100%"
        }
       },
       "children": [
        {
         "attributes": {
          "class": "pb-text",
          "style": {
           "position": "absolute",
           "width": "100%"
          }
         },
         "children": [
          "Simulation finished in 0:00:01."
         ],
         "tagName": "div"
        },
        {
         "attributes": {
          "class": "pb-fill",
          "style": {
           "animation": "none",
           "backgroundColor": "#bdd2e6",
           "backgroundImage": "none",
           "transition": "width 0.1s linear",
           "width": "100%"
          }
         },
         "children": [
          {
           "attributes": {
            "scoped": "scoped",
            "type": "text/css"
           },
           "children": [
            "\n                        @keyframes pb-fill-anim {\n                            0% { background-position: 0 0; }\n                            100% { background-position: 100px 0; }\n                        }}"
           ],
           "tagName": "style"
          },
          " "
         ],
         "tagName": "div"
        }
       ],
       "tagName": "div"
      },
      "text/html": [
       "<script>\n",
       "              (function () {\n",
       "                  var root = document.getElementById('0cfb18dd-0171-4a6b-9096-9e0b566fd39d');\n",
       "                  var text = root.getElementsByClassName('pb-text')[0];\n",
       "                  var fill = root.getElementsByClassName('pb-fill')[0];\n",
       "\n",
       "                  text.innerHTML = 'Simulation finished in 0:00:01.';\n",
       "                  \n",
       "            if (100.0 > 0.) {\n",
       "                fill.style.transition = 'width 0.1s linear';\n",
       "            } else {\n",
       "                fill.style.transition = 'none';\n",
       "            }\n",
       "\n",
       "            fill.style.width = '100.0%';\n",
       "            fill.style.animation = 'none';\n",
       "            fill.style.backgroundImage = 'none'\n",
       "        \n",
       "                  \n",
       "                fill.style.animation = 'none';\n",
       "                fill.style.backgroundImage = 'none';\n",
       "            \n",
       "              })();\n",
       "        </script>"
      ]
     },
     "metadata": {},
     "output_type": "display_data"
    },
    {
     "data": {
      "image/png": "[encoded data removed]",
      "text/plain": [
       "<Figure size 432x288 with 4 Axes>"
      ]
     },
     "metadata": {
      "needs_background": "light"
     },
     "output_type": "display_data"
    }
   ],
   "source": [
    "import numpy as np\n",
    "import matplotlib.pyplot as plt\n",
    "import nengo\n",
    "from nengo.utils.ensemble import tuning_curves\n",
    "from nengo.utils.matplotlib import rasterplot\n",
    "from nengo_extras.plot_spikes import plot_spikes, preprocess_spikes\n",
    "\n",
    "time = .5\n",
    "dt = .001\n",
    "std = .01\n",
    "\n",
    "process = nengo.processes.WhiteNoise(\n",
    "    dist=nengo.dists.Gaussian(0, std), seed=1)\n",
    "\n",
    "with nengo.Network() as model:\n",
    "    ens_args = dict(encoders=[[1]], intercepts=[0.01], max_rates=[100])\n",
    "    a = nengo.Ensemble(1, 1, **ens_args)\n",
    "    b = nengo.Ensemble(1, 1, noise=process, **ens_args,  neuron_type=nengo.LIF())\n",
    "    a_voltage = nengo.Probe(a.neurons, 'voltage')\n",
    "    b_voltage = nengo.Probe(b.neurons, 'voltage')\n",
    "    b_spikes = nengo.Probe(b.neurons, 'spikes')\n",
    "    b_refractory_time = nengo.Probe(b.neurons, 'refractory_time')\n",
    "\n",
    "with nengo.Simulator(model, dt = dt) as sim:\n",
    "    sim.run(time)\n",
    "\n",
    "# Plot voltage over time for noisy and deterministic LIF neuron\n",
    "plt.figure()\n",
    "plt.subplot(411)\n",
    "plt.plot(sim.trange(), sim.data[a_voltage], label=\"deterministic\")\n",
    "plt.plot(sim.trange(), sim.data[b_voltage], label=\"noisy\")\n",
    "plt.xlabel('time [s]')\n",
    "plt.ylabel('voltage')\n",
    "plt.legend(loc=4)\n",
    "\n",
    "# Testing 2 different spike raster plots: plot_spikes and rasterplot\n",
    "plt.subplot(412)\n",
    "plot_spikes(sim.trange(), sim.data[b_spikes])\n",
    "plt.xlabel('time [s]')\n",
    "plt.ylabel('Neuron number')\n",
    "\n",
    "plt.subplot(413)\n",
    "rasterplot(sim.trange(), sim.data[b_spikes])\n",
    "plt.xlabel('time [s]')\n",
    "plt.ylabel('Neuron number')\n",
    "\n",
    "# Track refractory time over time\n",
    "plt.subplot(414)\n",
    "plt.plot(sim.trange(), sim.data[b_refractory_time], label=\"noisy\")\n",
    "plt.xlabel('time [s]')\n",
    "plt.ylabel('refractory time')\n",
    "plt.legend(loc=4);\n"
   ]
  }
 ],
 "metadata": {
  "kernelspec": {
   "display_name": "Python 3",
   "language": "python",
   "name": "python3"
  },
  "language_info": {
   "codemirror_mode": {
    "name": "ipython",
    "version": 3
   },
   "file_extension": ".py",
   "mimetype": "text/x-python",
   "name": "python",
   "nbconvert_exporter": "python",
   "pygments_lexer": "ipython3",
   "version": "3.7.4"
  }
 },
 "nbformat": 4,
 "nbformat_minor": 4
}
